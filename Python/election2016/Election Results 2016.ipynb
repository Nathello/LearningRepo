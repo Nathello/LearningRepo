{
 "cells": [
  {
   "cell_type": "code",
   "execution_count": 1,
   "metadata": {
    "collapsed": true
   },
   "outputs": [],
   "source": [
    "import numpy as np\n",
    "import pandas as pd\n",
    "import matplotlib.pyplot as plt"
   ]
  },
  {
   "cell_type": "code",
   "execution_count": 2,
   "metadata": {
    "collapsed": false
   },
   "outputs": [
    {
     "data": {
      "text/html": [
       "<div>\n",
       "<table border=\"1\" class=\"dataframe\">\n",
       "  <thead>\n",
       "    <tr style=\"text-align: right;\">\n",
       "      <th></th>\n",
       "      <th>state</th>\n",
       "      <th>population</th>\n",
       "      <th>electoral_college_votes</th>\n",
       "      <th>democratic_votes</th>\n",
       "      <th>republican_votes</th>\n",
       "      <th>other_votes</th>\n",
       "    </tr>\n",
       "  </thead>\n",
       "  <tbody>\n",
       "    <tr>\n",
       "      <th>0</th>\n",
       "      <td>Alabama</td>\n",
       "      <td>4858979</td>\n",
       "      <td>9</td>\n",
       "      <td>718084</td>\n",
       "      <td>1306925</td>\n",
       "      <td>53005</td>\n",
       "    </tr>\n",
       "    <tr>\n",
       "      <th>1</th>\n",
       "      <td>Alaska</td>\n",
       "      <td>738432</td>\n",
       "      <td>3</td>\n",
       "      <td>92013</td>\n",
       "      <td>129786</td>\n",
       "      <td>22947</td>\n",
       "    </tr>\n",
       "    <tr>\n",
       "      <th>2</th>\n",
       "      <td>Arizona</td>\n",
       "      <td>6828065</td>\n",
       "      <td>11</td>\n",
       "      <td>864438</td>\n",
       "      <td>947824</td>\n",
       "      <td>95212</td>\n",
       "    </tr>\n",
       "    <tr>\n",
       "      <th>3</th>\n",
       "      <td>Arkansas</td>\n",
       "      <td>2978204</td>\n",
       "      <td>6</td>\n",
       "      <td>378729</td>\n",
       "      <td>677904</td>\n",
       "      <td>65051</td>\n",
       "    </tr>\n",
       "    <tr>\n",
       "      <th>4</th>\n",
       "      <td>California</td>\n",
       "      <td>39144818</td>\n",
       "      <td>55</td>\n",
       "      <td>5481885</td>\n",
       "      <td>2965704</td>\n",
       "      <td>471928</td>\n",
       "    </tr>\n",
       "  </tbody>\n",
       "</table>\n",
       "</div>"
      ],
      "text/plain": [
       "        state  population  electoral_college_votes  democratic_votes  \\\n",
       "0     Alabama     4858979                        9            718084   \n",
       "1      Alaska      738432                        3             92013   \n",
       "2     Arizona     6828065                       11            864438   \n",
       "3    Arkansas     2978204                        6            378729   \n",
       "4  California    39144818                       55           5481885   \n",
       "\n",
       "   republican_votes  other_votes  \n",
       "0           1306925        53005  \n",
       "1            129786        22947  \n",
       "2            947824        95212  \n",
       "3            677904        65051  \n",
       "4           2965704       471928  "
      ]
     },
     "execution_count": 2,
     "metadata": {},
     "output_type": "execute_result"
    }
   ],
   "source": [
    "election_data = pd.read_csv('electionData.csv')\n",
    "election_data.head()"
   ]
  },
  {
   "cell_type": "code",
   "execution_count": 3,
   "metadata": {
    "collapsed": false
   },
   "outputs": [
    {
     "name": "stdout",
     "output_type": "stream",
     "text": [
      "538\n",
      "59744630\n",
      "59533157\n"
     ]
    }
   ],
   "source": [
    "print(sum(election_data['electoral_college_votes']))\n",
    "print(sum(election_data['democratic_votes']))\n",
    "print(sum(election_data['republican_votes']))"
   ]
  },
  {
   "cell_type": "code",
   "execution_count": 4,
   "metadata": {
    "collapsed": false
   },
   "outputs": [
    {
     "name": "stdout",
     "output_type": "stream",
     "text": [
      "233 305\n"
     ]
    }
   ],
   "source": [
    "election_data['total_votes'] = election_data['democratic_votes'] +  election_data['republican_votes'] + election_data['other_votes']\n",
    "\n",
    "def democratic_win(election_data):\n",
    "    if election_data['democratic_votes'] > election_data['republican_votes']:\n",
    "        return election_data['electoral_college_votes']\n",
    "    else:\n",
    "        return 0\n",
    "\n",
    "def republican_win(election_data):\n",
    "    if election_data['republican_votes'] > election_data['democratic_votes']:\n",
    "        return election_data['electoral_college_votes']\n",
    "    else:\n",
    "        return 0\n",
    "\n",
    "election_data['democratic_electoral_college_votes'] = election_data.apply(democratic_win, axis=1)\n",
    "election_data['republican_electoral_college_votes'] = election_data.apply(republican_win, axis=1)\n",
    "    \n",
    "election_data.head()\n",
    "\n",
    "print(sum(election_data['democratic_electoral_college_votes']), sum(election_data['republican_electoral_college_votes']))\n"
   ]
  },
  {
   "cell_type": "code",
   "execution_count": 5,
   "metadata": {
    "collapsed": false
   },
   "outputs": [
    {
     "data": {
      "text/html": [
       "<div>\n",
       "<table border=\"1\" class=\"dataframe\">\n",
       "  <thead>\n",
       "    <tr style=\"text-align: right;\">\n",
       "      <th></th>\n",
       "      <th>state</th>\n",
       "      <th>democratic_vote_percent</th>\n",
       "      <th>republican_vote_percent</th>\n",
       "      <th>other_vote_percent</th>\n",
       "      <th>democratic_electoral_vote</th>\n",
       "      <th>republican_electoral_vote</th>\n",
       "      <th>other_electoral_vote</th>\n",
       "      <th>total_electoral_votes</th>\n",
       "    </tr>\n",
       "  </thead>\n",
       "  <tbody>\n",
       "    <tr>\n",
       "      <th>0</th>\n",
       "      <td>Alabama</td>\n",
       "      <td>0.345563</td>\n",
       "      <td>0.628930</td>\n",
       "      <td>0.025508</td>\n",
       "      <td>3.0</td>\n",
       "      <td>6.0</td>\n",
       "      <td>0.0</td>\n",
       "      <td>9.0</td>\n",
       "    </tr>\n",
       "    <tr>\n",
       "      <th>1</th>\n",
       "      <td>Alaska</td>\n",
       "      <td>0.375953</td>\n",
       "      <td>0.530289</td>\n",
       "      <td>0.093758</td>\n",
       "      <td>1.0</td>\n",
       "      <td>2.0</td>\n",
       "      <td>0.0</td>\n",
       "      <td>3.0</td>\n",
       "    </tr>\n",
       "    <tr>\n",
       "      <th>2</th>\n",
       "      <td>Arizona</td>\n",
       "      <td>0.453185</td>\n",
       "      <td>0.496900</td>\n",
       "      <td>0.049915</td>\n",
       "      <td>5.0</td>\n",
       "      <td>5.0</td>\n",
       "      <td>1.0</td>\n",
       "      <td>11.0</td>\n",
       "    </tr>\n",
       "    <tr>\n",
       "      <th>3</th>\n",
       "      <td>Arkansas</td>\n",
       "      <td>0.337643</td>\n",
       "      <td>0.604363</td>\n",
       "      <td>0.057994</td>\n",
       "      <td>2.0</td>\n",
       "      <td>4.0</td>\n",
       "      <td>0.0</td>\n",
       "      <td>6.0</td>\n",
       "    </tr>\n",
       "    <tr>\n",
       "      <th>4</th>\n",
       "      <td>California</td>\n",
       "      <td>0.614594</td>\n",
       "      <td>0.332496</td>\n",
       "      <td>0.052910</td>\n",
       "      <td>34.0</td>\n",
       "      <td>18.0</td>\n",
       "      <td>3.0</td>\n",
       "      <td>55.0</td>\n",
       "    </tr>\n",
       "  </tbody>\n",
       "</table>\n",
       "</div>"
      ],
      "text/plain": [
       "        state  democratic_vote_percent  republican_vote_percent  \\\n",
       "0     Alabama                 0.345563                 0.628930   \n",
       "1      Alaska                 0.375953                 0.530289   \n",
       "2     Arizona                 0.453185                 0.496900   \n",
       "3    Arkansas                 0.337643                 0.604363   \n",
       "4  California                 0.614594                 0.332496   \n",
       "\n",
       "   other_vote_percent  democratic_electoral_vote  republican_electoral_vote  \\\n",
       "0            0.025508                        3.0                        6.0   \n",
       "1            0.093758                        1.0                        2.0   \n",
       "2            0.049915                        5.0                        5.0   \n",
       "3            0.057994                        2.0                        4.0   \n",
       "4            0.052910                       34.0                       18.0   \n",
       "\n",
       "   other_electoral_vote  total_electoral_votes  \n",
       "0                   0.0                    9.0  \n",
       "1                   0.0                    3.0  \n",
       "2                   1.0                   11.0  \n",
       "3                   0.0                    6.0  \n",
       "4                   3.0                   55.0  "
      ]
     },
     "execution_count": 5,
     "metadata": {},
     "output_type": "execute_result"
    }
   ],
   "source": [
    "election_percent_data = pd.DataFrame()\n",
    "\n",
    "election_percent_data['state'] = election_data['state']\n",
    "election_percent_data['democratic_vote_percent'] = election_data['democratic_votes'] / election_data['total_votes']\n",
    "election_percent_data['republican_vote_percent'] = election_data['republican_votes'] / election_data['total_votes']\n",
    "election_percent_data['other_vote_percent'] = election_data['other_votes'] / election_data['total_votes']\n",
    "election_percent_data['democratic_electoral_vote'] = election_data['electoral_college_votes'] * election_percent_data['democratic_vote_percent']\n",
    "election_percent_data['republican_electoral_vote'] = election_data['electoral_college_votes'] * election_percent_data['republican_vote_percent']\n",
    "election_percent_data['other_electoral_vote'] = election_data['electoral_college_votes'] * election_percent_data['other_vote_percent']\n",
    "\n",
    "election_percent_data['democratic_electoral_vote'] = election_percent_data['democratic_electoral_vote'].round()\n",
    "election_percent_data['republican_electoral_vote'] = election_percent_data['republican_electoral_vote'].round()\n",
    "election_percent_data['other_electoral_vote'] = election_percent_data['other_electoral_vote'].round()\n",
    "\n",
    "election_percent_data['total_electoral_votes'] = election_percent_data['democratic_electoral_vote']+ election_percent_data['republican_electoral_vote']+ election_percent_data['other_electoral_vote'] \n",
    "\n",
    "election_percent_data.head()"
   ]
  },
  {
   "cell_type": "code",
   "execution_count": 11,
   "metadata": {
    "collapsed": true
   },
   "outputs": [],
   "source": [
    "election_percent_data.to_csv('election_percent_data.csv')"
   ]
  },
  {
   "cell_type": "code",
   "execution_count": 6,
   "metadata": {
    "collapsed": false
   },
   "outputs": [
    {
     "name": "stdout",
     "output_type": "stream",
     "text": [
      "260.0\n",
      "257.0\n",
      "24.0\n"
     ]
    }
   ],
   "source": [
    "print(sum(election_percent_data.democratic_electoral_vote))\n",
    "print(sum(election_percent_data.republican_electoral_vote))\n",
    "print(sum(election_percent_data.other_electoral_vote))"
   ]
  },
  {
   "cell_type": "code",
   "execution_count": 7,
   "metadata": {
    "collapsed": false
   },
   "outputs": [],
   "source": [
    "electoral_vote_diff = pd.DataFrame()\n",
    "\n",
    "electoral_vote_diff['state'] = election_percent_data['state']\n",
    "electoral_vote_diff['original_electoral_votes'] = election_data['electoral_college_votes']\n",
    "electoral_vote_diff['modified_electoral_votes'] = election_percent_data['total_electoral_votes']\n",
    "electoral_vote_diff['delta'] = electoral_vote_diff['original_electoral_votes'] - electoral_vote_diff['modified_electoral_votes']\n",
    "\n",
    "#electoral_vote_diff"
   ]
  },
  {
   "cell_type": "code",
   "execution_count": 8,
   "metadata": {
    "collapsed": false
   },
   "outputs": [],
   "source": [
    "total_electoral_votes = election_data.electoral_college_votes.sum()\n",
    "total_population = election_data.population.sum()\n",
    "\n",
    "electoral_college_votes_per_population = total_electoral_votes / total_population\n",
    "\n",
    "#print(total_electoral_votes,total_population,electoral_college_votes_per_population)"
   ]
  },
  {
   "cell_type": "code",
   "execution_count": 10,
   "metadata": {
    "collapsed": false
   },
   "outputs": [
    {
     "name": "stdout",
     "output_type": "stream",
     "text": [
      "234.0 302.0\n"
     ]
    }
   ],
   "source": [
    "election_data['population_adjusted_electoral_college_votes'] = (election_data['population'] * electoral_college_votes_per_population).round()\n",
    "\n",
    "election_data['electoral_college_vote_delta'] = election_data['electoral_college_votes'] - election_data['population_adjusted_electoral_college_votes'].round()\n",
    "\n",
    "def adjusted_democratic_win(election_data):\n",
    "    if election_data['democratic_votes'] > election_data['republican_votes']:\n",
    "        return election_data['population_adjusted_electoral_college_votes']\n",
    "    else:\n",
    "        return 0\n",
    "    \n",
    "def adjusted_republican_win(election_data):\n",
    "    if election_data['republican_votes'] > election_data['democratic_votes']:\n",
    "        return election_data['population_adjusted_electoral_college_votes']\n",
    "    else:\n",
    "        return 0\n",
    "\n",
    "election_data['adjusted_democratic_electoral_college_votes'] = election_data.apply(adjusted_democratic_win, axis=1)\n",
    "election_data['adjusted_republican_electoral_college_votes'] = election_data.apply(adjusted_republican_win, axis=1)\n",
    "\n",
    "\n",
    "\n",
    "election_data\n",
    "\n",
    "print(sum(election_data['adjusted_democratic_electoral_college_votes']), sum(election_data['adjusted_republican_electoral_college_votes']))"
   ]
  },
  {
   "cell_type": "code",
   "execution_count": 1,
   "metadata": {
    "collapsed": false
   },
   "outputs": [
    {
     "ename": "NameError",
     "evalue": "name 'election_data' is not defined",
     "output_type": "error",
     "traceback": [
      "\u001b[1;31m---------------------------------------------------------------------------\u001b[0m",
      "\u001b[1;31mNameError\u001b[0m                                 Traceback (most recent call last)",
      "\u001b[1;32m<ipython-input-1-b70a45d3194c>\u001b[0m in \u001b[0;36m<module>\u001b[1;34m()\u001b[0m\n\u001b[1;32m----> 1\u001b[1;33m \u001b[0melection_data\u001b[0m\u001b[1;33m.\u001b[0m\u001b[0mto_csv\u001b[0m\u001b[1;33m(\u001b[0m\u001b[1;34m'new_election_data.csv'\u001b[0m\u001b[1;33m)\u001b[0m\u001b[1;33m\u001b[0m\u001b[0m\n\u001b[0m",
      "\u001b[1;31mNameError\u001b[0m: name 'election_data' is not defined"
     ]
    }
   ],
   "source": []
  },
  {
   "cell_type": "code",
   "execution_count": null,
   "metadata": {
    "collapsed": true
   },
   "outputs": [],
   "source": []
  }
 ],
 "metadata": {
  "kernelspec": {
   "display_name": "Python 3",
   "language": "python",
   "name": "python3"
  },
  "language_info": {
   "codemirror_mode": {
    "name": "ipython",
    "version": 3
   },
   "file_extension": ".py",
   "mimetype": "text/x-python",
   "name": "python",
   "nbconvert_exporter": "python",
   "pygments_lexer": "ipython3",
   "version": "3.5.1"
  }
 },
 "nbformat": 4,
 "nbformat_minor": 0
}
